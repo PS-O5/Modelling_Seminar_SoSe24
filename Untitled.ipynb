{
 "cells": [
  {
   "cell_type": "code",
   "execution_count": 2,
   "id": "78358678",
   "metadata": {},
   "outputs": [],
   "source": [
    "import pyvista as pv\n",
    "\n",
    "# Load the .vtk file\n",
    "filename = 'square1156.vtk'\n",
    "mesh = pv.read(filename)\n",
    "\n",
    "# Create a plotter object\n",
    "plotter = pv.Plotter()\n",
    "\n",
    "# Add the mesh to the plotter\n",
    "plotter.add_mesh(mesh, show_edges=True)\n",
    "\n",
    "# Set the camera position to the top view\n",
    "plotter.view_xy()\n",
    "\n",
    "# Save the screenshot with higher resolution\n",
    "screenshot_path = 'top_view_vtk1156.png'\n",
    "plotter.screenshot(screenshot_path, window_size=[1600, 1200])  # Increase window size for higher resolution\n",
    "\n",
    "# Close the plotter\n",
    "plotter.close()\n"
   ]
  },
  {
   "cell_type": "code",
   "execution_count": null,
   "id": "7cdd974f",
   "metadata": {},
   "outputs": [],
   "source": []
  },
  {
   "cell_type": "code",
   "execution_count": null,
   "id": "b5e2c34f",
   "metadata": {},
   "outputs": [],
   "source": []
  }
 ],
 "metadata": {
  "kernelspec": {
   "display_name": "Python 3 (ipykernel)",
   "language": "python",
   "name": "python3"
  },
  "language_info": {
   "codemirror_mode": {
    "name": "ipython",
    "version": 3
   },
   "file_extension": ".py",
   "mimetype": "text/x-python",
   "name": "python",
   "nbconvert_exporter": "python",
   "pygments_lexer": "ipython3",
   "version": "3.11.5"
  }
 },
 "nbformat": 4,
 "nbformat_minor": 5
}
